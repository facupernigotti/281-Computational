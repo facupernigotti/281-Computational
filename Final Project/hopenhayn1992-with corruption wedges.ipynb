{
 "cells": [
  {
   "cell_type": "code",
   "execution_count": 1,
   "metadata": {},
   "outputs": [],
   "source": [
    "# P.S currently tested on 3.10.7 python version, but these are standard packages and should work in other versions as well.\n",
    "import numpy as np\n",
    "#import matplotlib.pyplot as plt  # if you need to plot \n",
    "#from numba import njit, jit, guvectorize # NUMBA speed up quite a lot, see the functions that have the decorator just above ====> not used in this code\n",
    "from scipy.optimize import brentq  # root-finding routine\n",
    "from scipy.stats import norm\n"
   ]
  },
  {
   "cell_type": "code",
   "execution_count": 2,
   "metadata": {},
   "outputs": [],
   "source": [
    "\n",
    "def tauchen(N, rho, sigma, mu=0.0, m=3.0):\n",
    "    s1 = mu/(1 - rho) - m * np.sqrt(sigma**2 / (1 - rho**2))\n",
    "    sN = mu/(1 - rho) + m * np.sqrt(sigma**2 / (1 - rho**2))\n",
    "    s = np.linspace(s1, sN, N) # grid values\n",
    "    step = (s[N-1] - s[0]) / (N - 1)  # evenly spaced grid\n",
    "    P = np.zeros((N, N))\n",
    "\n",
    "    for i in range(np.ceil(N/2).astype(int)):\n",
    "        P[i, 0] = norm.cdf((s[0] - mu - rho*s[i] + step/2) / sigma)\n",
    "        P[i, N-1] = 1 - norm.cdf((s[N-1] - mu - rho*s[i] - step/2) / sigma)\n",
    "        for j in range(1, N-1):\n",
    "            P[i, j] = norm.cdf((s[j] - mu - rho*s[i] + step/2) / sigma) - \\\n",
    "                      norm.cdf((s[j] - mu - rho*s[i] - step/2) / sigma)\n",
    "    P[np.floor((N-1)/2+1).astype(int):, :] = P[0:np.ceil((N-1)/2).astype(int), :][::-1, ::-1]\n",
    "\n",
    "    ps = np.sum(P, axis=1)\n",
    "    P = P / ps[:, np.newaxis] # transition matrix\n",
    "\n",
    "    # compute invariant distribution of labor process (by iteration)\n",
    "    inv = np.ones(N) / N # initial guess\n",
    "    tol=1E-11; maxit=100^4\n",
    "    for it in range(maxit):\n",
    "        inv_new = inv @ P\n",
    "        if np.max(np.abs(inv_new - inv)) < tol: break  \n",
    "        inv = inv_new # invariant distribution\n",
    "\n",
    "    return s, P, inv"
   ]
  },
  {
   "cell_type": "code",
   "execution_count": 3,
   "metadata": {},
   "outputs": [],
   "source": [
    "def setPar(\n",
    "    beta = 0.95,\n",
    "    rho = 0.9,\n",
    "    sigma = 0.2,\n",
    "    phi_mean = 1.0,\n",
    "    alpha = 2/3,\n",
    "    c_e = 40.0,\n",
    "    c_f = 20.0,\n",
    "    D_bar = 100.0,\n",
    "    mu_g  = 0.0,\n",
    "    sigma_g = 0.2,  \n",
    "    nPhi = 101,\n",
    "    w = 1.0 , \n",
    "    wedge = 0,\n",
    "    wedgeprob = 0.05\n",
    "):\n",
    "\n",
    "\t# === SHOCK DISCRETIZATION\n",
    "    phi_mean = phi_mean*(1-rho)\n",
    "    gPhi, F_trans, invPhi = tauchen(nPhi, rho, sigma, mu = phi_mean, m = 4.0)\t\n",
    "    gPhi = np.exp(gPhi)\n",
    "    gPhi_wedge= np.vstack((gPhi, gPhi))  \n",
    "        \n",
    "\t# === ENTRANTS DISTRIBUTION: Assume they draw from the invariant distribution.\n",
    "    G_prob = invPhi\n",
    "    G_prob_wedge= np.vstack((invPhi * (1-wedgeprob), invPhi* wedgeprob)).T\n",
    "    # G_prob_wedge[0, :] *= (1-wedgeprob)\n",
    "    #G_prob_wedge[1, :] *= wedgeprob\n",
    "    \n",
    "\t# === WEDGE GRID and DISTRIBUTION: Assume 10% of firms with possitive wedge\n",
    "    gwedge = np.linspace(1-wedge, 1+wedge, 2)\n",
    "    \n",
    "\t# create dictionary with parameters\n",
    "    param = {}\n",
    "    param['alpha'] = alpha; param['beta'] = beta; param['F_trans'] = F_trans; param['gPhi'] = gPhi; param['nPhi'] = nPhi\n",
    "    param['c_e'] = c_e; param['c_f'] = c_f; param['D_bar'] = D_bar; param['G_prob'] = G_prob; param['w'] = w\n",
    "    param['wedge'] = wedge; param['gwedge'] = gwedge; param['wedgeprob'] = wedgeprob; param['G_prob_wedge']=G_prob_wedge\n",
    "    param['gPhi_wedge']=gPhi_wedge\n",
    "    return param\n",
    "\n",
    "param = setPar()\n",
    "#print(param)\n",
    "#print(gwedge)"
   ]
  },
  {
   "cell_type": "code",
   "execution_count": 4,
   "metadata": {},
   "outputs": [
    {
     "name": "stdout",
     "output_type": "stream",
     "text": [
      "(101, 2)\n"
     ]
    }
   ],
   "source": [
    "def solve_bellman(p_guess, param):\n",
    "    # unpacking parameters\n",
    "    gPhi = param['gPhi']; F_trans = param['F_trans']; alpha = param['alpha']; nPhi = param['nPhi']\n",
    "    c_f = param['c_f']; beta = param['beta']; w = param['w']\n",
    "    wedge = param['wedge']; gwedge = param['gwedge']; wedgeprob = param['wedgeprob']\n",
    "    \n",
    "    # static decision:\n",
    "    gN = (p_guess * alpha * gPhi.reshape(-1, 1) / w)**(1 / (1.0 - alpha)) * gwedge.reshape(-1, 1).T\n",
    "    gPi = p_guess * gPhi.reshape(-1, 1) * gwedge.reshape(-1, 1).T * gN**alpha  - w * gN - c_f * w\n",
    "\n",
    "    # solve bellman\n",
    "    tol = 1e-9\n",
    "    max_iter = 500\n",
    "    iter_count = 10\n",
    "    print_it = False  # set true to print iterations\n",
    "    V = gPi.copy()  # initial guess\n",
    "    v_guess = np.zeros((nPhi, 2))\n",
    "\n",
    "    for iter in range(0, max_iter):\n",
    "        v_guess[:] = V  \n",
    "        V[:,0] = gPi[:,0] + beta * np.maximum(0, F_trans.dot(v_guess[:,0])) \n",
    "        V[:,1] = gPi[:,1] + beta * np.maximum(0, F_trans.dot(v_guess[:,1])) \n",
    "        sup = np.max(np.abs(V - v_guess))  # check tolerance\n",
    "        if sup < tol * np.max(np.abs(V)):\n",
    "            if print_it: print(f\"Iter: {iter}. Tol. achieved: {sup:.2E}\")\n",
    "            break\n",
    "        if iter == max_iter and print_it: print(f\"Max iterations achieved. VF did not converge: {sup:.2E}\")\n",
    "        if iter % iter_count == 0 and print_it: print(f\"Iter: {iter}. Tol: {sup:.2E}\")  \n",
    "        \n",
    "    chi = np.zeros((nPhi, 2))\n",
    "    chi[F_trans.dot(V) < 0] = 1.0  # recover exit policy function \n",
    "\n",
    "    return V, chi, gN, gPi\n",
    "\n",
    "\n",
    "V, chi, gN, gPi = solve_bellman(2, param) # test\n",
    "#print( gN )\n",
    "#print(gPi)\n",
    "\n",
    "print(chi.shape)"
   ]
  },
  {
   "cell_type": "code",
   "execution_count": 5,
   "metadata": {},
   "outputs": [
    {
     "name": "stdout",
     "output_type": "stream",
     "text": [
      "1.252270632467577\n"
     ]
    }
   ],
   "source": [
    "def solve_price(param):\n",
    "    def entry(p_guess): # \n",
    "        c_e = param['c_e']; beta = param['beta']; G_prob = param['G_prob']; w = param['w']\n",
    "        wedge = param['wedge']; gwedge = param['gwedge']; wedgeprob = param['wedgeprob'] ; G_prob_wedge=param['G_prob_wedge']\n",
    "        V, chi, gN, gPi = solve_bellman(p_guess, param)\n",
    "        excess_entry = beta * np.sum(V * G_prob_wedge) - c_e * w\n",
    "        return excess_entry\n",
    "    \n",
    "    p0 = 0.05; p1 = 10.0 # guess: lower and upper bound. Might have to change for diff. parameters\n",
    "    p = brentq(entry, 0.05, 10.0)\n",
    "\n",
    "    V, chi, gN, gPi = solve_bellman(p, param)\n",
    "\n",
    "    return p, V, chi, gN, gPi\n",
    "\n",
    "sol =solve_price(param)\n",
    "print(sol[0]) # price\n",
    "\n"
   ]
  },
  {
   "cell_type": "code",
   "execution_count": 6,
   "metadata": {},
   "outputs": [
    {
     "name": "stdout",
     "output_type": "stream",
     "text": [
      "0.08477278909632234\n"
     ]
    },
    {
     "data": {
      "text/plain": [
       "1.0029987162620984"
      ]
     },
     "execution_count": 6,
     "metadata": {},
     "output_type": "execute_result"
    }
   ],
   "source": [
    "def solve_m(param, solution):\n",
    "    # unpacking parameters\n",
    "    gPhi = param['gPhi']; F_trans = param['F_trans']; alpha = param['alpha']; nPhi = param['nPhi']\n",
    "    G_prob = param['G_prob']; D_bar = param['D_bar']\n",
    "    wedge = param['wedge']; gwedge = param['gwedge']; wedgeprob = param['wedgeprob'] \n",
    "    G_prob_wedge = param['G_prob_wedge']; gPhi_wedge = param['gPhi_wedge']\n",
    "    \n",
    "    p = solution[0]; chi = solution[2]; gN = solution[3];\n",
    "    \n",
    "    # construct transition probability:\n",
    "    Phat_0= ((1 - chi[:,0]) * F_trans.T)  # note the transpose here, only firms with z>z* keep operating\n",
    "    Phat_1 = ((1 - chi[:,1]) * F_trans.T)  # note the transpose here, only firms with z>z* keep operating\n",
    "   \n",
    "    # invariant distribution is just a homogeneous function of M\n",
    "    def inv_dist(M):\n",
    "        a0=M*G_prob @ np.linalg.inv(np.eye(nPhi) - Phat_0).T\n",
    "        a1=M*G_prob @ np.linalg.inv(np.eye(nPhi) - Phat_1).T\n",
    "        A=np.vstack((a0, a1)).T\n",
    "        return A\n",
    "\n",
    "    # supply: integrate the total production\n",
    "    y = gPhi_wedge.T * gN**alpha\n",
    "    supply = np.sum(inv_dist(1) * y) # just use the function with an arbitrary M\n",
    "    \n",
    "    #Measure of corruption:\n",
    "    wedgecost = - gPhi_wedge.T * p * gPhi.reshape(-1, 1) * (gwedge.T-1) * gN**alpha  \n",
    "    wedges = np.sum(inv_dist(1) * wedgecost) \n",
    "    # demand\n",
    "    demand = (D_bar+wedges) / p\n",
    "    \n",
    "    # find mass of entrants (exploit linearity of the invariant distribution)\n",
    "    M = demand / supply\n",
    "    mu = inv_dist(M)\n",
    "    \n",
    "    return M, mu\n",
    "\n",
    "\n",
    "M, mu = solve_m(param, sol)\n",
    "print(M)\n",
    "#print(mu)\n",
    "np.sum(mu)\n"
   ]
  },
  {
   "cell_type": "code",
   "execution_count": 7,
   "metadata": {},
   "outputs": [
    {
     "name": "stdout",
     "output_type": "stream",
     "text": [
      "Model Stats\n",
      "Price:  1.252270632467577\n",
      "Avg. Firm Size:  66.46734994349254\n",
      "Exit/entry Rate:  0.16903867915653437\n",
      "Productivity Cutoff for corrupt:  2.819914364863605\n",
      "Productivity Cutoff for non-corrupt:  2.819914364863605\n",
      "Aggregate Output:  79.85494301894774\n",
      "Profits for non-corrupt:  13.233674971746284\n",
      "Profits for corrupt:  13.233674971746284\n",
      "Aggregate Profits:  26.467349943492568\n"
     ]
    }
   ],
   "source": [
    "def ModelStats(param, sol_price, M, mu, Printa = True):\n",
    "    # unpacking parameters\n",
    "    gPhi = param['gPhi']; F_trans = param['F_trans']; alpha = param['alpha']; nPhi = param['nPhi']\n",
    "    G_prob = param['G_prob']; D_bar = param['D_bar']\n",
    "    wedge = param['wedge'] ; gwedge = param['gwedge'] ; wedgeprob =  param['wedgeprob']\n",
    "    G_prob_wedge = param['G_prob_wedge']; gPhi_wedge = param['gPhi_wedge']\n",
    "    p = sol_price[0]; chi = sol_price[2]; gN = sol_price[3]; gPi = sol_price[4]\n",
    "\n",
    "    #Proba of corrupted firms\n",
    "    corr_dist=np.array([[1 - wedgeprob], [wedgeprob]])\n",
    "    # productivity distribution\n",
    "    pdf_dist = mu.copy()\n",
    "    pdf_dist[:,0] = mu[:,0] / np.sum(mu[:,0])\n",
    "    pdf_dist[:,1] = mu[:,1] / np.sum(mu[:,1])\n",
    "    \n",
    "    cdf_dist = mu.copy()\n",
    "    cdf_dist[:,0] = np.cumsum(pdf_dist[:,0])\n",
    "    cdf_dist[:,1] = np.cumsum(pdf_dist[:,1])\n",
    "\n",
    "    # employment distribution\n",
    "    emp_dist = mu * gN \n",
    "    pdf_emp = emp_dist / np.sum(emp_dist)\n",
    "    cdf_emp = np.cumsum(pdf_emp)\n",
    "    \n",
    "    # exit productivity\n",
    "    cut_index_nc = np.flatnonzero(chi[:,0] == 0)[0]\n",
    "    cut_index_c = np.flatnonzero(chi[:,1] == 0)[0]\n",
    "    phicut_nc = gPhi[cut_index_nc]\n",
    "    phicut_c = gPhi[cut_index_c]\n",
    "\n",
    "\n",
    "    # stats\n",
    "    avg_firm_size = np.sum(emp_dist) / np.sum(mu) \n",
    "    exit_rate = M / np.sum(mu* corr_dist.T) \n",
    "    Y = np.sum((gPhi_wedge.T * gN**alpha) * mu) # agg production\n",
    "    emp_prod = np.sum(emp_dist )  # employment used in production\n",
    "    Pi_c = np.sum(gPi[:,1] * mu[:,1] ) / np.sum(mu[:,1])   # average profits\n",
    "    Pi_nc = np.sum(gPi[:,0] * mu[:,0] )/ np.sum(mu[:,0])  # average profits\n",
    "    Pi = np.sum(gPi * mu )  # aggregate profits\n",
    "\n",
    "    if Printa==True:\n",
    "        print(\"Model Stats\")\n",
    "        print(\"Price: \", p)\n",
    "        print(\"Avg. Firm Size: \", avg_firm_size)\n",
    "        print(\"Exit/entry Rate: \", exit_rate)\n",
    "        print(\"Productivity Cutoff for corrupt: \", phicut_c)\n",
    "        print(\"Productivity Cutoff for non-corrupt: \", phicut_nc)\n",
    "        print(\"Aggregate Output: \", Y)\n",
    "        print(\"Profits for non-corrupt: \", Pi_nc)\n",
    "        print(\"Profits for corrupt: \", Pi_c)\n",
    "        print(\"Aggregate Profits: \", Pi_c+Pi_nc)\n",
    "\n",
    "    \n",
    "    return (pdf_dist, cdf_dist, pdf_emp, cdf_emp, avg_firm_size, exit_rate, Y, emp_prod, phicut_nc, phicut_c, Pi, gN)\n",
    "\n",
    "Stats = ModelStats(param, sol, M, mu)"
   ]
  },
  {
   "cell_type": "code",
   "execution_count": 8,
   "metadata": {},
   "outputs": [
    {
     "name": "stdout",
     "output_type": "stream",
     "text": [
      "Model Stats\n",
      "Price:  1.252270632467577\n",
      "Avg. Firm Size:  66.46734994349254\n",
      "Exit/entry Rate:  0.16903867915653437\n",
      "Productivity Cutoff for corrupt:  2.819914364863605\n",
      "Productivity Cutoff for non-corrupt:  2.819914364863605\n",
      "Aggregate Output:  79.85494301894774\n",
      "Profits for non-corrupt:  13.233674971746284\n",
      "Profits for corrupt:  13.233674971746284\n",
      "Aggregate Profits:  26.467349943492568\n"
     ]
    }
   ],
   "source": [
    "### PS. The function is not considering the corner solution where there is no entry. Change the function later.\n",
    "\n",
    "def SolveModel(param):\n",
    "    # Solve For Prices\n",
    "\tsol_price =solve_price(param)  \n",
    "\tM, mu = solve_m(param, sol_price)\n",
    "\n",
    "\tif M<=0: print(\"Warning: No entry, eq. not found.\")\n",
    "\tstats = ModelStats(param, sol_price, M, mu)\n",
    "\treturn (sol_price, M, mu, stats)\n",
    "\n",
    "results = SolveModel(param)"
   ]
  },
  {
   "cell_type": "code",
   "execution_count": 9,
   "metadata": {},
   "outputs": [
    {
     "name": "stdout",
     "output_type": "stream",
     "text": [
      "Model Stats\n",
      "Price:  1.2810576918203722\n",
      "Avg. Firm Size:  69.64599843988216\n",
      "Exit/entry Rate:  0.18567302604571584\n",
      "Productivity Cutoff for corrupt:  2.620312230399254\n",
      "Productivity Cutoff for non-corrupt:  2.92534679145905\n",
      "Aggregate Output:  56.5197952411471\n",
      "Profits for non-corrupt:  14.01204677038464\n",
      "Profits for corrupt:  15.823588228656604\n",
      "Aggregate Profits:  29.835634999041243\n"
     ]
    }
   ],
   "source": [
    "# increase entry cost: \n",
    "results2 = SolveModel(setPar(wedge = 0.025))\n"
   ]
  },
  {
   "cell_type": "code",
   "execution_count": 10,
   "metadata": {},
   "outputs": [
    {
     "name": "stdout",
     "output_type": "stream",
     "text": [
      "Model Stats\n",
      "Price:  1.2668320959379182\n",
      "Avg. Firm Size:  67.35150075924005\n",
      "Exit/entry Rate:  0.17177280259044164\n",
      "Productivity Cutoff for corrupt:  2.620312230399254\n",
      "Productivity Cutoff for non-corrupt:  2.92534679145905\n",
      "Aggregate Output:  57.87210168423426\n",
      "Profits for non-corrupt:  12.891514878004596\n",
      "Profits for corrupt:  14.643374836010898\n",
      "Aggregate Profits:  27.534889714015492\n"
     ]
    }
   ],
   "source": [
    "# increase entry cost: \n",
    "results3 = SolveModel(setPar(wedge = 0.025, wedgeprob=0.25))\n"
   ]
  },
  {
   "cell_type": "code",
   "execution_count": 11,
   "metadata": {},
   "outputs": [
    {
     "name": "stdout",
     "output_type": "stream",
     "text": [
      "(101, 2)\n"
     ]
    },
    {
     "data": {
      "image/png": "[encoded data removed]",
      "text/plain": [
       "<Figure size 640x480 with 1 Axes>"
      ]
     },
     "metadata": {},
     "output_type": "display_data"
    }
   ],
   "source": [
    "import numpy as np\n",
    "import matplotlib.pyplot as plt\n",
    "\n",
    "# Assuming 'results2' is a tuple and the 4th element contains the desired values\n",
    "# Unpack relevant values from results2\n",
    "pdf_dist, cdf_dist, pdf_emp, cdf_emp, avg_firm_size, exit_rate, Y, emp_prod, phicut_nc, phicut_c, Pi, gN = results2[3]\n",
    "\n",
    "print(pdf_dist.shape)\n",
    "\n",
    "# Calculate the means of each PDF\n",
    "mean_non_corrupt = np.sum(param['gPhi'] * pdf_dist[:, 0] )\n",
    "mean_corrupt = np.sum(param['gPhi'] * pdf_dist[:, 1])\n",
    "\n",
    "# Plotting pdf_dist\n",
    "fig, ax = plt.subplots()\n",
    "# Plot first column of pdf_dist in blue\n",
    "ax.plot(param['gPhi'], pdf_dist[:, 0], color='blue', label='PDF non-corrupt firms')\n",
    "# Plot second column of pdf_dist in red\n",
    "ax.plot(param['gPhi'], pdf_dist[:, 1], color='red', label='PDF corrupt firms')\n",
    "\n",
    "# Add vertical lines for the means\n",
    "ax.axvline(x=mean_non_corrupt, color='blue', linestyle='--', label='Mean non-corrupt firms')\n",
    "ax.axvline(x=mean_corrupt, color='red', linestyle='--', label='Mean corrupt firms')\n",
    "\n",
    "ax.set_xlabel('Idiosyncratic Productivity')\n",
    "ax.set_ylabel('Probability')\n",
    "ax.set_title('Firm productivity by type')\n",
    "ax.legend()\n",
    "\n",
    "plt.show()\n"
   ]
  },
  {
   "cell_type": "code",
   "execution_count": null,
   "metadata": {},
   "outputs": [],
   "source": []
  }
 ],
 "metadata": {
  "kernelspec": {
   "display_name": "Python 3 (ipykernel)",
   "language": "python",
   "name": "python3"
  },
  "language_info": {
   "codemirror_mode": {
    "name": "ipython",
    "version": 3
   },
   "file_extension": ".py",
   "mimetype": "text/x-python",
   "name": "python",
   "nbconvert_exporter": "python",
   "pygments_lexer": "ipython3",
   "version": "3.11.5"
  },
  "vscode": {
   "interpreter": {
    "hash": "aee8b7b246df8f9039afb4144a1f6fd8d2ca17a180786b69acc140d282b71a49"
   }
  }
 },
 "nbformat": 4,
 "nbformat_minor": 2
}
